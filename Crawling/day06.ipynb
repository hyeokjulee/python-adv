{
 "cells": [
  {
   "cell_type": "code",
   "execution_count": 1,
   "metadata": {},
   "outputs": [
    {
     "name": "stdout",
     "output_type": "stream",
     "text": [
      "1st\n",
      "3rd\n",
      "3rd\n"
     ]
    },
    {
     "data": {
      "text/plain": [
       "0"
      ]
     },
     "execution_count": 1,
     "metadata": {},
     "output_type": "execute_result"
    }
   ],
   "source": [
    "import sys, PyQt5\n",
    "from PyQt5.QtWidgets import *\n",
    "from PyQt5 import uic\n",
    "\n",
    "form_class = uic.loadUiType(\"mywindow9.ui\")[0]\n",
    "\n",
    "class MyWindow(QMainWindow, form_class):\n",
    "\n",
    "    def __init__(self):\n",
    "        super().__init__()\n",
    "        self.setupUi(self)\n",
    "\n",
    "        # 단추 클릭했을 때 콤보 박스 확인\n",
    "        \n",
    "        self.printItem.clicked.connect(self.printItemFunction)\n",
    "\n",
    "    def printItemFunction(self):\n",
    "        print(self.comboBox.currentText())\n",
    "\n",
    "app = QApplication(sys.argv)\n",
    "window = MyWindow()\n",
    "window.show()\n",
    "app.exec_()"
   ]
  },
  {
   "cell_type": "code",
   "execution_count": 1,
   "metadata": {},
   "outputs": [
    {
     "ename": "KeyboardInterrupt",
     "evalue": "",
     "output_type": "error",
     "traceback": [
      "\u001b[1;31m---------------------------------------------------------------------------\u001b[0m",
      "\u001b[1;31mKeyboardInterrupt\u001b[0m                         Traceback (most recent call last)",
      "\u001b[1;32m~\\AppData\\Local\\Temp\\ipykernel_14408\\2954815421.py\u001b[0m in \u001b[0;36m<module>\u001b[1;34m\u001b[0m\n\u001b[0;32m     27\u001b[0m \u001b[0mwindow\u001b[0m \u001b[1;33m=\u001b[0m \u001b[0mMyWindow\u001b[0m\u001b[1;33m(\u001b[0m\u001b[1;33m)\u001b[0m\u001b[1;33m\u001b[0m\u001b[1;33m\u001b[0m\u001b[0m\n\u001b[0;32m     28\u001b[0m \u001b[0mwindow\u001b[0m\u001b[1;33m.\u001b[0m\u001b[0mshow\u001b[0m\u001b[1;33m(\u001b[0m\u001b[1;33m)\u001b[0m\u001b[1;33m\u001b[0m\u001b[1;33m\u001b[0m\u001b[0m\n\u001b[1;32m---> 29\u001b[1;33m \u001b[0mapp\u001b[0m\u001b[1;33m.\u001b[0m\u001b[0mexec_\u001b[0m\u001b[1;33m(\u001b[0m\u001b[1;33m)\u001b[0m\u001b[1;33m\u001b[0m\u001b[1;33m\u001b[0m\u001b[0m\n\u001b[0m",
      "\u001b[1;31mKeyboardInterrupt\u001b[0m: "
     ]
    }
   ],
   "source": [
    "import sys\n",
    "from PyQt5.QtWidgets import *\n",
    "\n",
    "class MyWindow(QMainWindow):\n",
    "    def __init__(self):\n",
    "        super().__init__()\n",
    "\n",
    "        # 윈도우 창\n",
    "        self.setGeometry(800, 200, 300, 300)\n",
    "\n",
    "        # 윈도우에 테이블위젯 넣기\n",
    "        self.tableWidget = QTableWidget(self)\n",
    "        self.tableWidget.resize(290, 290)\n",
    "        self.tableWidget.setColumnCount(2)\n",
    "        self.tableWidget.setRowCount(5)\n",
    "\n",
    "        # 테이블위젯에 데이터 넣기 (행, 열, 넣을 값)\n",
    "        self.tableWidget.setItem(0, 0, QTableWidgetItem(\"비트코인\"))\n",
    "        self.tableWidget.setItem(0, 1, QTableWidgetItem(\"31000000\"))\n",
    "\n",
    "        self.tableWidget.setItem(1, 0, QTableWidgetItem(\"이더리움\"))\n",
    "        self.tableWidget.setItem(1, 1, QTableWidgetItem(\"2100000\"))\n",
    "\n",
    "        self.tableWidget.setItem(2, 0, QTableWidgetItem(\"리플\"))\n",
    "\n",
    "app = QApplication(sys.argv)\n",
    "window = MyWindow()\n",
    "window.show()\n",
    "app.exec_()"
   ]
  },
  {
   "cell_type": "code",
   "execution_count": 1,
   "metadata": {},
   "outputs": [
    {
     "data": {
      "text/plain": [
       "0"
      ]
     },
     "execution_count": 1,
     "metadata": {},
     "output_type": "execute_result"
    }
   ],
   "source": [
    "# 현재 온도 조회 앱\n",
    "\n",
    "import requests, sys\n",
    "from bs4 import BeautifulSoup as bs\n",
    "from PyQt5.QtWidgets import *\n",
    "from PyQt5 import uic\n",
    "\n",
    "html = bs(requests.get(\"https://weather.naver.com/\").text)\n",
    "\n",
    "form_class = uic.loadUiType(\"weather.ui\")[0]\n",
    "\n",
    "class MyWindow(QMainWindow, form_class):\n",
    "\n",
    "    def __init__(self):\n",
    "        super().__init__()\n",
    "        self.setupUi(self)\n",
    "\n",
    "        self.pushButton.clicked.connect(self.weatherFunction)\n",
    "\n",
    "    def weatherFunction(self):\n",
    "        self.textBrowser.setPlainText(html.select('strong.current')[0].text.strip().strip('현재 온도'))\n",
    "\n",
    "app = QApplication(sys.argv)\n",
    "window = MyWindow()\n",
    "window.show()\n",
    "app.exec_()"
   ]
  },
  {
   "cell_type": "code",
   "execution_count": 1,
   "metadata": {},
   "outputs": [
    {
     "data": {
      "text/plain": [
       "0"
      ]
     },
     "execution_count": 1,
     "metadata": {},
     "output_type": "execute_result"
    }
   ],
   "source": [
    "# 코인 조회 앱\n",
    "\n",
    "import sys, PyQt5\n",
    "import pybithumb as pb\n",
    "from PyQt5.QtWidgets import *\n",
    "from PyQt5 import uic\n",
    "\n",
    "form_class = uic.loadUiType(\"coin.ui\")[0]\n",
    "\n",
    "class MyWindow(QMainWindow, form_class):\n",
    "    def __init__(self):\n",
    "        super().__init__()\n",
    "        self.setupUi(self)\n",
    "\n",
    "        self.pushButton.clicked.connect(self.coinFunction)\n",
    "\n",
    "    def coinFunction(self):\n",
    "        self.lineEdit_1.setText(str(pb.get_current_price('BTC')) + '원')\n",
    "        self.lineEdit_2.setText(str(pb.get_current_price('ETH')) + '원')\n",
    "        self.lineEdit_3.setText(str(pb.get_current_price('XRP')) + '원')\n",
    "        self.lineEdit_4.setText(str(pb.get_current_price('ADA')) + '원')\n",
    "\n",
    "app = QApplication(sys.argv)\n",
    "window = MyWindow()\n",
    "window.show()\n",
    "app.exec_()"
   ]
  },
  {
   "cell_type": "code",
   "execution_count": 1,
   "metadata": {},
   "outputs": [
    {
     "data": {
      "text/plain": [
       "0"
      ]
     },
     "execution_count": 1,
     "metadata": {},
     "output_type": "execute_result"
    }
   ],
   "source": [
    "import sys\n",
    "import pybithumb as pb\n",
    "from PyQt5.QtWidgets import *\n",
    "\n",
    "tickers = []\n",
    "\n",
    "tickers.append(['비트코인', 'BTC'])\n",
    "tickers.append(['이더리움', 'ETH'])\n",
    "tickers.append(['리플', 'XRP'])\n",
    "tickers.append(['에이다', 'ADA'])\n",
    "\n",
    "class MyWindow(QMainWindow):\n",
    "    def __init__(self):\n",
    "        super().__init__()\n",
    "\n",
    "        # 윈도우 창\n",
    "        self.setGeometry(400, 300, 400, 300)\n",
    "\n",
    "        # 윈도우에 테이블위젯 넣기\n",
    "        self.tableWidget = QTableWidget(self)\n",
    "        self.tableWidget.resize(400, 300)\n",
    "        self.tableWidget.setColumnCount(2)\n",
    "        self.tableWidget.setRowCount(len(tickers))\n",
    "\n",
    "        # 테이블위젯에 데이터 넣기 (행, 열, 넣을 값)\n",
    "        for i, ticker in enumerate(tickers):\n",
    "            self.tableWidget.setItem(i, 0, QTableWidgetItem(ticker[0]))\n",
    "            self.tableWidget.setItem(i, 1, QTableWidgetItem(str(pb.get_current_price(ticker[1])) + '원'))\n",
    "\n",
    "app = QApplication(sys.argv)\n",
    "window = MyWindow()\n",
    "window.show()\n",
    "app.exec_()"
   ]
  },
  {
   "cell_type": "code",
   "execution_count": 1,
   "metadata": {},
   "outputs": [
    {
     "data": {
      "text/plain": [
       "0"
      ]
     },
     "execution_count": 1,
     "metadata": {},
     "output_type": "execute_result"
    }
   ],
   "source": [
    "import sys\n",
    "import pybithumb as pb\n",
    "from PyQt5.QtWidgets import *\n",
    "from PyQt5 import uic\n",
    "\n",
    "form_class = uic.loadUiType(\"coinTableWidget.ui\")[0]\n",
    "\n",
    "class MyWindow(QMainWindow, form_class):\n",
    "    def __init__(self):\n",
    "        super().__init__()\n",
    "        self.setupUi(self)\n",
    "\n",
    "        self.pushButton.clicked.connect(self.coinFunction)\n",
    "\n",
    "    def coinFunction(self):\n",
    "        tickers = ['BTC', 'ETH', 'XRP', 'ADA']\n",
    "\n",
    "        for i, ticker in enumerate(tickers):\n",
    "            self.tableWidget.setItem(i, 0, QTableWidgetItem(ticker))\n",
    "            self.tableWidget.setItem(i, 1, QTableWidgetItem(str(pb.get_current_price(ticker)) + '원'))\n",
    "\n",
    "app = QApplication(sys.argv)\n",
    "window = MyWindow()\n",
    "window.show()\n",
    "app.exec_()"
   ]
  },
  {
   "cell_type": "code",
   "execution_count": 1,
   "metadata": {},
   "outputs": [
    {
     "name": "stderr",
     "output_type": "stream",
     "text": [
      "C:\\Users\\82104\\AppData\\Local\\Temp\\ipykernel_8172\\292254405.py:43: DeprecationWarning: executable_path has been deprecated, please pass in a Service object\n",
      "  driver = webdriver.Chrome('chromedriver.exe')\n",
      "C:\\Users\\82104\\AppData\\Local\\Temp\\ipykernel_8172\\292254405.py:57: DeprecationWarning: executable_path has been deprecated, please pass in a Service object\n",
      "  driver = webdriver.Chrome('chromedriver.exe')\n"
     ]
    },
    {
     "data": {
      "text/plain": [
       "0"
      ]
     },
     "execution_count": 1,
     "metadata": {},
     "output_type": "execute_result"
    }
   ],
   "source": [
    "# Bugs 음원 차트 조회 앱\n",
    "\n",
    "import requests, sys, time\n",
    "from selenium import webdriver\n",
    "from bs4 import BeautifulSoup as bs\n",
    "from PyQt5.QtWidgets import *\n",
    "from PyQt5 import uic\n",
    "\n",
    "form_class = uic.loadUiType(\"musicChart.ui\")[0]\n",
    "class MyWindow(QMainWindow, form_class):\n",
    "    def __init__(self):\n",
    "        super().__init__()\n",
    "        self.setupUi(self)\n",
    "\n",
    "        self.pushButton_1.clicked.connect(self.bugsFunction)\n",
    "        self.pushButton_2.clicked.connect(self.melonFunction)\n",
    "        self.pushButton_3.clicked.connect(self.genieFunction)\n",
    "\n",
    "    def bugsFunction(self):\n",
    "        html = bs(requests.get(\"https://music.bugs.co.kr/chart\").text)\n",
    "        songs = html.select('table.byChart > tbody > tr')\n",
    "\n",
    "        for i, song in enumerate(songs):\n",
    "            self.tableWidget.setItem(i, 0, QTableWidgetItem('Bugs'))\n",
    "            self.tableWidget.setItem(i, 1, QTableWidgetItem(str(i + 1) + '위'))\n",
    "            self.tableWidget.setItem(i, 2, QTableWidgetItem(song.select('p.title > a')[0].text))\n",
    "            self.tableWidget.setItem(i, 3, QTableWidgetItem(song.select('p.artist > a')[0].text))\n",
    "\n",
    "    def melonFunction(self):\n",
    "        driver = webdriver.Chrome('chromedriver.exe')\n",
    "        driver.get(\"https://www.melon.com/chart/index.htm\")\n",
    "        html = bs(driver.page_source)\n",
    "\n",
    "        songs = html.select('tbody > tr')\n",
    "\n",
    "        for i, song in enumerate(songs):\n",
    "            self.tableWidget.setItem(i, 0, QTableWidgetItem('Melon'))\n",
    "            self.tableWidget.setItem(i, 1, QTableWidgetItem(str(i + 1) + '위'))\n",
    "            self.tableWidget.setItem(i, 2, QTableWidgetItem(song.select('div.rank01 > span > a')[0].text))\n",
    "            self.tableWidget.setItem(i, 3, QTableWidgetItem(song.select('div.rank02 > a')[0].text))\n",
    "\n",
    "    def genieFunction(self):\n",
    "        driver = webdriver.Chrome('chromedriver.exe')\n",
    "        driver.get(\"https://www.genie.co.kr/chart/top200?ditc=D&ymd=20230227&hh=16&rtm=Y&pg=1\")\n",
    "        html = bs(driver.page_source)\n",
    "\n",
    "        songs = html.select('tbody > tr')\n",
    "\n",
    "        for i, song in enumerate(songs):\n",
    "            self.tableWidget.setItem(i, 0, QTableWidgetItem('Genie'))\n",
    "            self.tableWidget.setItem(i, 1, QTableWidgetItem(str(i + 1) + '위'))\n",
    "            self.tableWidget.setItem(i, 2, QTableWidgetItem(song.select('a.ellipsis')[0].text.lstrip()))\n",
    "            self.tableWidget.setItem(i, 3, QTableWidgetItem(song.select('a.ellipsis')[1].text))\n",
    "\n",
    "        time.sleep(1)\n",
    "\n",
    "        driver = webdriver.Chrome('chromedriver.exe')\n",
    "        driver.get(\"https://www.genie.co.kr/chart/top200?ditc=D&ymd=20230227&hh=16&rtm=Y&pg=2\")\n",
    "        html = bs(driver.page_source)\n",
    "\n",
    "        songs = html.select('tbody > tr')\n",
    "\n",
    "        for i, song in enumerate(songs):\n",
    "            self.tableWidget.setItem(i + 50, 0, QTableWidgetItem('Genie'))\n",
    "            self.tableWidget.setItem(i + 50, 1, QTableWidgetItem(str(i + 51) + '위'))\n",
    "            self.tableWidget.setItem(i + 50, 2, QTableWidgetItem(song.select('a.ellipsis')[0].text.lstrip()))\n",
    "            self.tableWidget.setItem(i + 50, 3, QTableWidgetItem(song.select('a.ellipsis')[1].text))\n",
    "\n",
    "app = QApplication(sys.argv)\n",
    "window = MyWindow()\n",
    "window.show()\n",
    "app.exec_()"
   ]
  }
 ],
 "metadata": {
  "kernelspec": {
   "display_name": "base",
   "language": "python",
   "name": "python3"
  },
  "language_info": {
   "codemirror_mode": {
    "name": "ipython",
    "version": 3
   },
   "file_extension": ".py",
   "mimetype": "text/x-python",
   "name": "python",
   "nbconvert_exporter": "python",
   "pygments_lexer": "ipython3",
   "version": "3.9.13"
  },
  "orig_nbformat": 4
 },
 "nbformat": 4,
 "nbformat_minor": 2
}
