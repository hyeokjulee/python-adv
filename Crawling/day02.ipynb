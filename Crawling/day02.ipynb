{
 "cells": [
  {
   "cell_type": "code",
   "execution_count": 17,
   "metadata": {},
   "outputs": [
    {
     "name": "stderr",
     "output_type": "stream",
     "text": [
      "C:\\Users\\user\\AppData\\Local\\Temp\\ipykernel_8260\\3714406449.py:7: DeprecationWarning: executable_path has been deprecated, please pass in a Service object\n",
      "  driver = webdriver.Chrome('chromedriver.exe')\n"
     ]
    }
   ],
   "source": [
    "# Genie 차트 읽어오기\n",
    "\n",
    "from selenium import webdriver\n",
    "from bs4 import BeautifulSoup as bs\n",
    "import pandas as pd\n",
    "\n",
    "driver = webdriver.Chrome('chromedriver.exe')\n",
    "song_data = []\n",
    "rank = 0\n",
    "\n",
    "url = \"https://www.genie.co.kr/chart/top200?ditc=D&ymd=20230227&hh=16&rtm=Y&pg=1\"\n",
    "driver.get(url)\n",
    "txt = driver.page_source\n",
    "html = bs(txt)\n",
    "songs = html.select('tbody > tr')\n",
    "for song in songs:\n",
    "    rank += 1\n",
    "    title = song.select('a.title')[0].text.strip()\n",
    "    singer = song.select('a.artist')[0].text.strip()\n",
    "    song_data.append(['Genie', rank, title, singer])\n",
    "\n",
    "url = \"https://www.genie.co.kr/chart/top200?ditc=D&ymd=20230227&hh=16&rtm=Y&pg=2\"\n",
    "driver.get(url)\n",
    "txt = driver.page_source\n",
    "html = bs(txt)\n",
    "songs = html.select('tbody > tr')\n",
    "for song in songs:\n",
    "    rank += 1\n",
    "    title = song.select('a.title')[0].text.strip()\n",
    "    singer = song.select('a.artist')[0].text.strip()\n",
    "    song_data.append(['Genie', rank, title, singer])\n",
    "\n",
    "url = \"https://www.genie.co.kr/chart/top200?ditc=D&ymd=20230227&hh=16&rtm=Y&pg=3\"\n",
    "driver.get(url)\n",
    "txt = driver.page_source\n",
    "html = bs(txt)\n",
    "songs = html.select('tbody > tr')\n",
    "for song in songs:\n",
    "    rank += 1\n",
    "    title = song.select('a.title')[0].text.strip()\n",
    "    singer = song.select('a.artist')[0].text.strip()\n",
    "    song_data.append(['Genie', rank, title, singer])\n",
    "\n",
    "url = \"https://www.genie.co.kr/chart/top200?ditc=D&ymd=20230227&hh=16&rtm=Y&pg=4\"\n",
    "driver.get(url)\n",
    "txt = driver.page_source\n",
    "html = bs(txt)\n",
    "songs = html.select('tbody > tr')\n",
    "for song in songs:\n",
    "    rank += 1\n",
    "    title = song.select('a.title')[0].text.strip()\n",
    "    singer = song.select('a.artist')[0].text.strip()\n",
    "    song_data.append(['Genie', rank, title, singer])\n",
    "\n",
    "df = pd.DataFrame(song_data, columns = ['서비스', '순위', '타이틀', '가수'])\n",
    "df.to_excel('genie.xlsx',index=False)"
   ]
  },
  {
   "cell_type": "code",
   "execution_count": 48,
   "metadata": {},
   "outputs": [],
   "source": [
    "import requests\n",
    "from bs4 import BeautifulSoup as bs\n",
    "import pandas as pd\n",
    "\n",
    "datas = [title.text for title in bs(requests.get(\"https://comic.naver.com/webtoon/weekday\").text).select('a.title')]\n",
    "df = pd.DataFrame(datas, columns = ['title'])\n",
    "df.to_excel('webtoon.xlsx',index=False)"
   ]
  },
  {
   "cell_type": "code",
   "execution_count": 49,
   "metadata": {},
   "outputs": [],
   "source": [
    "import requests\n",
    "from bs4 import BeautifulSoup as bs\n",
    "import pandas as pd\n",
    "\n",
    "datas = [title.text for title in bs(requests.get(\"https://comic.naver.com/webtoon/weekday\").text).findAll('a', {'class':'title'})]\n",
    "df = pd.DataFrame(datas, columns = ['title'])\n",
    "df.to_excel('webtoon.xlsx',index=False)"
   ]
  },
  {
   "cell_type": "code",
   "execution_count": 1,
   "metadata": {},
   "outputs": [
    {
     "name": "stdout",
     "output_type": "stream",
     "text": [
      "6.8°\n"
     ]
    }
   ],
   "source": [
    "import requests\n",
    "from bs4 import BeautifulSoup as bs\n",
    "\n",
    "print(bs(requests.get(\"https://weather.naver.com/\").text).select('strong.current')[0].text.strip().strip('현재 온도'))"
   ]
  },
  {
   "cell_type": "code",
   "execution_count": 66,
   "metadata": {},
   "outputs": [],
   "source": [
    "# 썸 네일 모두 자동으로 다운받기\n",
    "\n",
    "import requests\n",
    "from bs4 import BeautifulSoup as bs\n",
    "from urllib.request import urlretrieve\n",
    "\n",
    "html = bs(requests.get(\"https://comic.naver.com/webtoon/weekday\").text)\n",
    "imgs = html.select('div.thumb > a > img')\n",
    "srcs = [img.get('src') for img in imgs]\n",
    "titles = [img.get('title') for img in imgs]\n",
    "titless = [title.text for title in html.select('a.title')]\n",
    "\n",
    "for i in range(len(imgs)):\n",
    "    if titless[0] != titles[0]:\n",
    "        print(titless[0])\n",
    "\n",
    "#for i in range(len(imgs)):\n",
    "#    urlretrieve(imgs[i], \"C:/imgs/\" + str(i) + \".jpg\")"
   ]
  }
 ],
 "metadata": {
  "kernelspec": {
   "display_name": "base",
   "language": "python",
   "name": "python3"
  },
  "language_info": {
   "codemirror_mode": {
    "name": "ipython",
    "version": 3
   },
   "file_extension": ".py",
   "mimetype": "text/x-python",
   "name": "python",
   "nbconvert_exporter": "python",
   "pygments_lexer": "ipython3",
   "version": "3.9.13"
  },
  "orig_nbformat": 4,
  "vscode": {
   "interpreter": {
    "hash": "a077222d77dfe082b8f1dd562ad70e458ac2ab76993a0b248ab0476e32e9e8dd"
   }
  }
 },
 "nbformat": 4,
 "nbformat_minor": 2
}
