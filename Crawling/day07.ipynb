{
 "cells": [
  {
   "cell_type": "code",
   "execution_count": 4,
   "metadata": {},
   "outputs": [
    {
     "ename": "FileNotFoundError",
     "evalue": "[Errno 2] No such file or directory: 'lotto.ui'",
     "output_type": "error",
     "traceback": [
      "\u001b[1;31m---------------------------------------------------------------------------\u001b[0m",
      "\u001b[1;31mFileNotFoundError\u001b[0m                         Traceback (most recent call last)",
      "\u001b[1;32m~\\AppData\\Local\\Temp\\ipykernel_2980\\1787324866.py\u001b[0m in \u001b[0;36m<module>\u001b[1;34m\u001b[0m\n\u001b[0;32m      6\u001b[0m \u001b[1;32mfrom\u001b[0m \u001b[0mPyQt5\u001b[0m \u001b[1;32mimport\u001b[0m \u001b[0muic\u001b[0m\u001b[1;33m\u001b[0m\u001b[1;33m\u001b[0m\u001b[0m\n\u001b[0;32m      7\u001b[0m \u001b[1;33m\u001b[0m\u001b[0m\n\u001b[1;32m----> 8\u001b[1;33m \u001b[0mform_class\u001b[0m \u001b[1;33m=\u001b[0m \u001b[0muic\u001b[0m\u001b[1;33m.\u001b[0m\u001b[0mloadUiType\u001b[0m\u001b[1;33m(\u001b[0m\u001b[1;34m\"lotto.ui\"\u001b[0m\u001b[1;33m)\u001b[0m\u001b[1;33m[\u001b[0m\u001b[1;36m0\u001b[0m\u001b[1;33m]\u001b[0m\u001b[1;33m\u001b[0m\u001b[1;33m\u001b[0m\u001b[0m\n\u001b[0m\u001b[0;32m      9\u001b[0m \u001b[1;32mclass\u001b[0m \u001b[0mMyWindow\u001b[0m\u001b[1;33m(\u001b[0m\u001b[0mQMainWindow\u001b[0m\u001b[1;33m,\u001b[0m \u001b[0mform_class\u001b[0m\u001b[1;33m)\u001b[0m\u001b[1;33m:\u001b[0m\u001b[1;33m\u001b[0m\u001b[1;33m\u001b[0m\u001b[0m\n\u001b[0;32m     10\u001b[0m     \u001b[1;32mdef\u001b[0m \u001b[0m__init__\u001b[0m\u001b[1;33m(\u001b[0m\u001b[0mself\u001b[0m\u001b[1;33m)\u001b[0m\u001b[1;33m:\u001b[0m\u001b[1;33m\u001b[0m\u001b[1;33m\u001b[0m\u001b[0m\n",
      "\u001b[1;32mc:\\Users\\82104\\anaconda3\\lib\\site-packages\\PyQt5\\uic\\__init__.py\u001b[0m in \u001b[0;36mloadUiType\u001b[1;34m(uifile, from_imports, resource_suffix, import_from)\u001b[0m\n\u001b[0;32m    201\u001b[0m \u001b[1;33m\u001b[0m\u001b[0m\n\u001b[0;32m    202\u001b[0m     \u001b[0mcode_string\u001b[0m \u001b[1;33m=\u001b[0m \u001b[0mStringIO\u001b[0m\u001b[1;33m(\u001b[0m\u001b[1;33m)\u001b[0m\u001b[1;33m\u001b[0m\u001b[1;33m\u001b[0m\u001b[0m\n\u001b[1;32m--> 203\u001b[1;33m     winfo = compiler.UICompiler().compileUi(uifile, code_string, from_imports,\n\u001b[0m\u001b[0;32m    204\u001b[0m             resource_suffix, import_from)\n\u001b[0;32m    205\u001b[0m \u001b[1;33m\u001b[0m\u001b[0m\n",
      "\u001b[1;32mc:\\Users\\82104\\anaconda3\\lib\\site-packages\\PyQt5\\uic\\Compiler\\compiler.py\u001b[0m in \u001b[0;36mcompileUi\u001b[1;34m(self, input_stream, output_stream, from_imports, resource_suffix, import_from)\u001b[0m\n\u001b[0;32m    109\u001b[0m     \u001b[1;32mdef\u001b[0m \u001b[0mcompileUi\u001b[0m\u001b[1;33m(\u001b[0m\u001b[0mself\u001b[0m\u001b[1;33m,\u001b[0m \u001b[0minput_stream\u001b[0m\u001b[1;33m,\u001b[0m \u001b[0moutput_stream\u001b[0m\u001b[1;33m,\u001b[0m \u001b[0mfrom_imports\u001b[0m\u001b[1;33m,\u001b[0m \u001b[0mresource_suffix\u001b[0m\u001b[1;33m,\u001b[0m \u001b[0mimport_from\u001b[0m\u001b[1;33m)\u001b[0m\u001b[1;33m:\u001b[0m\u001b[1;33m\u001b[0m\u001b[1;33m\u001b[0m\u001b[0m\n\u001b[0;32m    110\u001b[0m         \u001b[0mcreateCodeIndenter\u001b[0m\u001b[1;33m(\u001b[0m\u001b[0moutput_stream\u001b[0m\u001b[1;33m)\u001b[0m\u001b[1;33m\u001b[0m\u001b[1;33m\u001b[0m\u001b[0m\n\u001b[1;32m--> 111\u001b[1;33m         \u001b[0mw\u001b[0m \u001b[1;33m=\u001b[0m \u001b[0mself\u001b[0m\u001b[1;33m.\u001b[0m\u001b[0mparse\u001b[0m\u001b[1;33m(\u001b[0m\u001b[0minput_stream\u001b[0m\u001b[1;33m,\u001b[0m \u001b[0mresource_suffix\u001b[0m\u001b[1;33m)\u001b[0m\u001b[1;33m\u001b[0m\u001b[1;33m\u001b[0m\u001b[0m\n\u001b[0m\u001b[0;32m    112\u001b[0m \u001b[1;33m\u001b[0m\u001b[0m\n\u001b[0;32m    113\u001b[0m         \u001b[0mself\u001b[0m\u001b[1;33m.\u001b[0m\u001b[0mfactory\u001b[0m\u001b[1;33m.\u001b[0m\u001b[0m_cpolicy\u001b[0m\u001b[1;33m.\u001b[0m\u001b[0m_writeOutImports\u001b[0m\u001b[1;33m(\u001b[0m\u001b[1;33m)\u001b[0m\u001b[1;33m\u001b[0m\u001b[1;33m\u001b[0m\u001b[0m\n",
      "\u001b[1;32mc:\\Users\\82104\\anaconda3\\lib\\site-packages\\PyQt5\\uic\\uiparser.py\u001b[0m in \u001b[0;36mparse\u001b[1;34m(self, filename, resource_suffix)\u001b[0m\n\u001b[0;32m   1018\u001b[0m         )\n\u001b[0;32m   1019\u001b[0m \u001b[1;33m\u001b[0m\u001b[0m\n\u001b[1;32m-> 1020\u001b[1;33m         \u001b[0mdocument\u001b[0m \u001b[1;33m=\u001b[0m \u001b[0mparse\u001b[0m\u001b[1;33m(\u001b[0m\u001b[0mfilename\u001b[0m\u001b[1;33m)\u001b[0m\u001b[1;33m\u001b[0m\u001b[1;33m\u001b[0m\u001b[0m\n\u001b[0m\u001b[0;32m   1021\u001b[0m         \u001b[0mroot\u001b[0m \u001b[1;33m=\u001b[0m \u001b[0mdocument\u001b[0m\u001b[1;33m.\u001b[0m\u001b[0mgetroot\u001b[0m\u001b[1;33m(\u001b[0m\u001b[1;33m)\u001b[0m\u001b[1;33m\u001b[0m\u001b[1;33m\u001b[0m\u001b[0m\n\u001b[0;32m   1022\u001b[0m \u001b[1;33m\u001b[0m\u001b[0m\n",
      "\u001b[1;32mc:\\Users\\82104\\anaconda3\\lib\\xml\\etree\\ElementTree.py\u001b[0m in \u001b[0;36mparse\u001b[1;34m(source, parser)\u001b[0m\n\u001b[0;32m   1222\u001b[0m     \"\"\"\n\u001b[0;32m   1223\u001b[0m     \u001b[0mtree\u001b[0m \u001b[1;33m=\u001b[0m \u001b[0mElementTree\u001b[0m\u001b[1;33m(\u001b[0m\u001b[1;33m)\u001b[0m\u001b[1;33m\u001b[0m\u001b[1;33m\u001b[0m\u001b[0m\n\u001b[1;32m-> 1224\u001b[1;33m     \u001b[0mtree\u001b[0m\u001b[1;33m.\u001b[0m\u001b[0mparse\u001b[0m\u001b[1;33m(\u001b[0m\u001b[0msource\u001b[0m\u001b[1;33m,\u001b[0m \u001b[0mparser\u001b[0m\u001b[1;33m)\u001b[0m\u001b[1;33m\u001b[0m\u001b[1;33m\u001b[0m\u001b[0m\n\u001b[0m\u001b[0;32m   1225\u001b[0m     \u001b[1;32mreturn\u001b[0m \u001b[0mtree\u001b[0m\u001b[1;33m\u001b[0m\u001b[1;33m\u001b[0m\u001b[0m\n\u001b[0;32m   1226\u001b[0m \u001b[1;33m\u001b[0m\u001b[0m\n",
      "\u001b[1;32mc:\\Users\\82104\\anaconda3\\lib\\xml\\etree\\ElementTree.py\u001b[0m in \u001b[0;36mparse\u001b[1;34m(self, source, parser)\u001b[0m\n\u001b[0;32m    567\u001b[0m         \u001b[0mclose_source\u001b[0m \u001b[1;33m=\u001b[0m \u001b[1;32mFalse\u001b[0m\u001b[1;33m\u001b[0m\u001b[1;33m\u001b[0m\u001b[0m\n\u001b[0;32m    568\u001b[0m         \u001b[1;32mif\u001b[0m \u001b[1;32mnot\u001b[0m \u001b[0mhasattr\u001b[0m\u001b[1;33m(\u001b[0m\u001b[0msource\u001b[0m\u001b[1;33m,\u001b[0m \u001b[1;34m\"read\"\u001b[0m\u001b[1;33m)\u001b[0m\u001b[1;33m:\u001b[0m\u001b[1;33m\u001b[0m\u001b[1;33m\u001b[0m\u001b[0m\n\u001b[1;32m--> 569\u001b[1;33m             \u001b[0msource\u001b[0m \u001b[1;33m=\u001b[0m \u001b[0mopen\u001b[0m\u001b[1;33m(\u001b[0m\u001b[0msource\u001b[0m\u001b[1;33m,\u001b[0m \u001b[1;34m\"rb\"\u001b[0m\u001b[1;33m)\u001b[0m\u001b[1;33m\u001b[0m\u001b[1;33m\u001b[0m\u001b[0m\n\u001b[0m\u001b[0;32m    570\u001b[0m             \u001b[0mclose_source\u001b[0m \u001b[1;33m=\u001b[0m \u001b[1;32mTrue\u001b[0m\u001b[1;33m\u001b[0m\u001b[1;33m\u001b[0m\u001b[0m\n\u001b[0;32m    571\u001b[0m         \u001b[1;32mtry\u001b[0m\u001b[1;33m:\u001b[0m\u001b[1;33m\u001b[0m\u001b[1;33m\u001b[0m\u001b[0m\n",
      "\u001b[1;31mFileNotFoundError\u001b[0m: [Errno 2] No such file or directory: 'lotto.ui'"
     ]
    }
   ],
   "source": [
    "# 로또 당첨번호 조회 앱\n",
    "\n",
    "import requests, sys\n",
    "from bs4 import BeautifulSoup as bs\n",
    "from PyQt5.QtWidgets import *\n",
    "from PyQt5 import uic\n",
    "\n",
    "form_class = uic.loadUiType(\"lotto.ui\")[0]\n",
    "class MyWindow(QMainWindow, form_class):\n",
    "    def __init__(self):\n",
    "        super().__init__()\n",
    "        self.setupUi(self)\n",
    "\n",
    "        self.pushButton.clicked.connect(self.dhlotteryFunction)\n",
    "\n",
    "    def dhlotteryFunction(self):\n",
    "        html = bs(requests.get(\"https://dhlottery.co.kr/common.do?method=main\").text)\n",
    "        nums = html.select('span.ball_645')\n",
    "\n",
    "        self.lineEdit_1.setText(nums[0].text)\n",
    "        self.lineEdit_2.setText(nums[1].text)\n",
    "        self.lineEdit_3.setText(nums[2].text)\n",
    "        self.lineEdit_4.setText(nums[3].text)\n",
    "        self.lineEdit_5.setText(nums[4].text)\n",
    "        self.lineEdit_6.setText(nums[5].text)\n",
    "        self.lineEdit_7.setText(nums[6].text)\n",
    "\n",
    "app = QApplication(sys.argv)\n",
    "window = MyWindow()\n",
    "window.show()\n",
    "app.exec_()"
   ]
  },
  {
   "cell_type": "code",
   "execution_count": 1,
   "metadata": {},
   "outputs": [
    {
     "data": {
      "text/plain": [
       "7"
      ]
     },
     "execution_count": 1,
     "metadata": {},
     "output_type": "execute_result"
    }
   ],
   "source": [
    "import requests, sys\n",
    "from bs4 import BeautifulSoup as bs\n",
    "\n",
    "html = bs(requests.get(\"https://dhlottery.co.kr/common.do?method=main\").text)\n",
    "nums = html.select('span.ball_645')"
   ]
  },
  {
   "cell_type": "code",
   "execution_count": 1,
   "metadata": {},
   "outputs": [
    {
     "data": {
      "text/plain": [
       "0"
      ]
     },
     "execution_count": 1,
     "metadata": {},
     "output_type": "execute_result"
    }
   ],
   "source": [
    "import sys, pymysql\n",
    "from PyQt5.QtWidgets import *\n",
    "from PyQt5 import uic\n",
    "\n",
    "conn = pymysql.connect(host='davidgeunhosting.cafe24.com', user='davidgeunhosting', password='', db='davidgeunhosting', charset='utf8')\n",
    "cur = conn.cursor()\n",
    "\n",
    "form_class = uic.loadUiType(\"cafe24.ui\")[0]\n",
    "class MyWindow(QMainWindow, form_class):\n",
    "    def __init__(self):\n",
    "        super().__init__()\n",
    "        self.setupUi(self)\n",
    "\n",
    "        self.pushButton_1.clicked.connect(self.userFunction)\n",
    "        self.pushButton_2.clicked.connect(self.feedFunction)\n",
    "\n",
    "    def userFunction(self):\n",
    "        cur.execute(\"SELECT id FROM user ORDER BY ts\")\n",
    "        result0 = cur.fetchall()\n",
    "        cur.execute(\"SELECT password FROM user ORDER BY ts\")\n",
    "        result1 = cur.fetchall()\n",
    "        cur.execute(\"SELECT name FROM user ORDER BY ts\")\n",
    "        result2 = cur.fetchall()\n",
    "        cur.execute(\"SELECT ts FROM user ORDER BY ts\")\n",
    "        result3 = cur.fetchall()\n",
    "        cur.execute(\"SELECT approve FROM user ORDER BY ts\")\n",
    "        result4 = cur.fetchall()\n",
    "\n",
    "        self.tableWidget.clear()\n",
    "\n",
    "        self.tableWidget.setItem(0, 0, QTableWidgetItem('id'))\n",
    "        self.tableWidget.setItem(0, 1, QTableWidgetItem('password'))\n",
    "        self.tableWidget.setItem(0, 2, QTableWidgetItem('name'))\n",
    "        self.tableWidget.setItem(0, 3, QTableWidgetItem('ts'))\n",
    "        self.tableWidget.setItem(0, 4, QTableWidgetItem('approve'))\n",
    "\n",
    "        for i in range(0, len(result0)):\n",
    "            self.tableWidget.setItem(i + 1, 0, QTableWidgetItem(str(result0[i][0]).split('\\'')[1]))\n",
    "            self.tableWidget.setItem(i + 1, 1, QTableWidgetItem(str(result1[i][0]).split('\\'')[1]))\n",
    "            self.tableWidget.setItem(i + 1, 2, QTableWidgetItem(str(result2[i][0]).split('\\'')[1]))\n",
    "            self.tableWidget.setItem(i + 1, 3, QTableWidgetItem(str(result3[i][0])))\n",
    "            self.tableWidget.setItem(i + 1, 4, QTableWidgetItem(str(result4[i][0])))\n",
    "\n",
    "    def feedFunction(self):\n",
    "        cur.execute(\"SELECT no FROM feed ORDER BY ts\")\n",
    "        result0 = cur.fetchall()\n",
    "        cur.execute(\"SELECT id FROM feed ORDER BY ts\")\n",
    "        result1 = cur.fetchall()\n",
    "        cur.execute(\"SELECT content FROM feed ORDER BY ts\")\n",
    "        result2 = cur.fetchall()\n",
    "        cur.execute(\"SELECT ts FROM feed ORDER BY ts\")\n",
    "        result3 = cur.fetchall()\n",
    "\n",
    "        self.tableWidget.clear()\n",
    "\n",
    "        self.tableWidget.setItem(0, 0, QTableWidgetItem('no'))\n",
    "        self.tableWidget.setItem(0, 1, QTableWidgetItem('id'))\n",
    "        self.tableWidget.setItem(0, 2, QTableWidgetItem('content'))\n",
    "        self.tableWidget.setItem(0, 3, QTableWidgetItem('ts'))\n",
    "\n",
    "        for i in range(0, len(result0)):\n",
    "            self.tableWidget.setItem(i + 1, 0, QTableWidgetItem(str(result0[i][0])))\n",
    "            self.tableWidget.setItem(i + 1, 1, QTableWidgetItem(str(result1[i][0]).split('\\'')[1]))\n",
    "            self.tableWidget.setItem(i + 1, 2, QTableWidgetItem(str(result2[i][0]).split('\\'')[1]))\n",
    "            self.tableWidget.setItem(i + 1, 3, QTableWidgetItem(str(result3[i][0])))\n",
    "\n",
    "app = QApplication(sys.argv)\n",
    "window = MyWindow()\n",
    "window.show()\n",
    "app.exec_()"
   ]
  }
 ],
 "metadata": {
  "kernelspec": {
   "display_name": "base",
   "language": "python",
   "name": "python3"
  },
  "language_info": {
   "codemirror_mode": {
    "name": "ipython",
    "version": 3
   },
   "file_extension": ".py",
   "mimetype": "text/x-python",
   "name": "python",
   "nbconvert_exporter": "python",
   "pygments_lexer": "ipython3",
   "version": "3.9.13"
  },
  "orig_nbformat": 4
 },
 "nbformat": 4,
 "nbformat_minor": 2
}
