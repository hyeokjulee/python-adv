{
 "cells": [
  {
   "cell_type": "code",
   "execution_count": 1,
   "metadata": {},
   "outputs": [],
   "source": [
    "# 최초 한번만 설치 BeautifulSoup\n",
    "\n",
    "# !pip install bs4\n",
    "\n",
    "# 웹 페이지에서 긁어온 txt를 분석하기 쉽게 가공해주는 역할"
   ]
  },
  {
   "cell_type": "code",
   "execution_count": 7,
   "metadata": {},
   "outputs": [],
   "source": [
    "import requests # 웹 페이지 읽어오는 모듈\n",
    "from bs4 import BeautifulSoup as bs # 읽어온 웹 페이지 정제\n",
    "import pandas as pd # 데이터 분석 모듈"
   ]
  },
  {
   "cell_type": "code",
   "execution_count": 15,
   "metadata": {},
   "outputs": [],
   "source": [
    "url = \"https://www.naver.net/\"\n",
    "txt = requests.get(url)\n",
    "#print(txt.text)"
   ]
  },
  {
   "cell_type": "code",
   "execution_count": 16,
   "metadata": {},
   "outputs": [],
   "source": [
    "url = \"https://www.naver.net/\"\n",
    "txt = requests.get(url)\n",
    "html = bs(txt.text)\n",
    "#print(html)"
   ]
  },
  {
   "cell_type": "code",
   "execution_count": 18,
   "metadata": {},
   "outputs": [],
   "source": [
    "# Bugs 차트 읽어오기\n",
    "\n",
    "url = \"https://music.bugs.co.kr/chart\"\n",
    "txt = requests.get(url)\n",
    "html = bs(txt.text)\n",
    "#print(html)"
   ]
  },
  {
   "cell_type": "code",
   "execution_count": 32,
   "metadata": {},
   "outputs": [
    {
     "name": "stdout",
     "output_type": "stream",
     "text": [
      "104\n",
      "100\n",
      "100\n",
      "100\n"
     ]
    }
   ],
   "source": [
    "print(len(html.select('tr')))\n",
    "print(len(html.select('div > table > tbody > tr')))\n",
    "print(len(html.select('table.byChart > tbody > tr')))\n",
    "print(len(html.select('table.trackList > tbody > tr')))"
   ]
  },
  {
   "cell_type": "code",
   "execution_count": 35,
   "metadata": {},
   "outputs": [],
   "source": [
    "# 전체 소스에서 위에서 찾아낸 100개의 tr들만을 추출하자.\n",
    "\n",
    "songs = html.select('table.byChart > tbody > tr')"
   ]
  },
  {
   "cell_type": "code",
   "execution_count": 57,
   "metadata": {},
   "outputs": [],
   "source": [
    "song0 = songs[0]"
   ]
  },
  {
   "cell_type": "code",
   "execution_count": 48,
   "metadata": {},
   "outputs": [
    {
     "data": {
      "text/plain": [
       "11"
      ]
     },
     "execution_count": 48,
     "metadata": {},
     "output_type": "execute_result"
    }
   ],
   "source": [
    "len(song0.select('a'))"
   ]
  },
  {
   "cell_type": "code",
   "execution_count": 49,
   "metadata": {},
   "outputs": [
    {
     "data": {
      "text/plain": [
       "2"
      ]
     },
     "execution_count": 49,
     "metadata": {},
     "output_type": "execute_result"
    }
   ],
   "source": [
    "len(song0.select('p > a'))"
   ]
  },
  {
   "cell_type": "code",
   "execution_count": 50,
   "metadata": {},
   "outputs": [
    {
     "data": {
      "text/plain": [
       "1"
      ]
     },
     "execution_count": 50,
     "metadata": {},
     "output_type": "execute_result"
    }
   ],
   "source": [
    "len(song0.select('p.title > a'))"
   ]
  },
  {
   "cell_type": "code",
   "execution_count": 51,
   "metadata": {},
   "outputs": [
    {
     "data": {
      "text/plain": [
       "[<a adultcheckval=\"1\" aria-label=\"새창\" href=\"javascript:;\" onclick=\"bugs.wiselog.area('list_tr_09_chart');bugs.music.listen('6184997',true);\n",
       " \" title=\"Ditto\">Ditto</a>]"
      ]
     },
     "execution_count": 51,
     "metadata": {},
     "output_type": "execute_result"
    }
   ],
   "source": [
    "song0.select('p.title > a')"
   ]
  },
  {
   "cell_type": "code",
   "execution_count": 53,
   "metadata": {},
   "outputs": [
    {
     "data": {
      "text/plain": [
       "'Ditto'"
      ]
     },
     "execution_count": 53,
     "metadata": {},
     "output_type": "execute_result"
    }
   ],
   "source": [
    "song0.select('p.title > a')[0].text # 1등 노래 제목"
   ]
  },
  {
   "cell_type": "code",
   "execution_count": 54,
   "metadata": {},
   "outputs": [
    {
     "data": {
      "text/plain": [
       "'OMG'"
      ]
     },
     "execution_count": 54,
     "metadata": {},
     "output_type": "execute_result"
    }
   ],
   "source": [
    "song1 = songs[1]\n",
    "song1.select('p.title > a')[0].text # 2등 노래 제목"
   ]
  },
  {
   "cell_type": "code",
   "execution_count": 59,
   "metadata": {},
   "outputs": [
    {
     "data": {
      "text/plain": [
       "'NewJeans'"
      ]
     },
     "execution_count": 59,
     "metadata": {},
     "output_type": "execute_result"
    }
   ],
   "source": [
    "song0.select('p.artist > a')[0].text # 1등 노래 가수 이름"
   ]
  },
  {
   "cell_type": "code",
   "execution_count": 65,
   "metadata": {},
   "outputs": [],
   "source": [
    "song_date = []\n",
    "\n",
    "for i in range(100):\n",
    "    rank = i + 1\n",
    "    title = songs[i].select('p.title > a')[0].text\n",
    "    singer = songs[i].select('p.artist > a')[0].text\n",
    "\n",
    "    song_date.append(['Bugs', rank, title, singer])"
   ]
  },
  {
   "cell_type": "code",
   "execution_count": 68,
   "metadata": {},
   "outputs": [],
   "source": [
    "df = pd.DataFrame(song_date, columns = ['서비스', '순위', '타이틀', '가수'])"
   ]
  },
  {
   "cell_type": "code",
   "execution_count": 69,
   "metadata": {},
   "outputs": [],
   "source": [
    "# df 를 excel 파일로 변환\n",
    "\n",
    "df.to_excel('bugs.xlsx',index=False)"
   ]
  },
  {
   "cell_type": "code",
   "execution_count": 3,
   "metadata": {},
   "outputs": [
    {
     "name": "stdout",
     "output_type": "stream",
     "text": [
      "Collecting selenium\n",
      "  Downloading selenium-4.8.2-py3-none-any.whl (6.9 MB)\n",
      "     ---------------------------------------- 6.9/6.9 MB 2.4 MB/s eta 0:00:00\n",
      "Requirement already satisfied: urllib3[socks]~=1.26 in c:\\users\\user\\anaconda3\\lib\\site-packages (from selenium) (1.26.11)\n",
      "Requirement already satisfied: certifi>=2021.10.8 in c:\\users\\user\\anaconda3\\lib\\site-packages (from selenium) (2022.9.14)\n",
      "Collecting trio~=0.17\n",
      "  Downloading trio-0.22.0-py3-none-any.whl (384 kB)\n",
      "     -------------------------------------- 384.9/384.9 kB 2.4 MB/s eta 0:00:00\n",
      "Collecting trio-websocket~=0.9\n",
      "  Downloading trio_websocket-0.9.2-py3-none-any.whl (16 kB)\n",
      "Collecting outcome\n",
      "  Downloading outcome-1.2.0-py2.py3-none-any.whl (9.7 kB)\n",
      "Requirement already satisfied: sniffio in c:\\users\\user\\anaconda3\\lib\\site-packages (from trio~=0.17->selenium) (1.2.0)\n",
      "Collecting exceptiongroup>=1.0.0rc9\n",
      "  Downloading exceptiongroup-1.1.0-py3-none-any.whl (14 kB)\n",
      "Requirement already satisfied: idna in c:\\users\\user\\anaconda3\\lib\\site-packages (from trio~=0.17->selenium) (3.3)\n",
      "Collecting async-generator>=1.9\n",
      "  Downloading async_generator-1.10-py3-none-any.whl (18 kB)\n",
      "Requirement already satisfied: sortedcontainers in c:\\users\\user\\anaconda3\\lib\\site-packages (from trio~=0.17->selenium) (2.4.0)\n",
      "Requirement already satisfied: cffi>=1.14 in c:\\users\\user\\anaconda3\\lib\\site-packages (from trio~=0.17->selenium) (1.15.1)\n",
      "Requirement already satisfied: attrs>=19.2.0 in c:\\users\\user\\anaconda3\\lib\\site-packages (from trio~=0.17->selenium) (21.4.0)\n",
      "Collecting wsproto>=0.14\n",
      "  Downloading wsproto-1.2.0-py3-none-any.whl (24 kB)\n",
      "Requirement already satisfied: PySocks!=1.5.7,<2.0,>=1.5.6 in c:\\users\\user\\anaconda3\\lib\\site-packages (from urllib3[socks]~=1.26->selenium) (1.7.1)\n",
      "Requirement already satisfied: pycparser in c:\\users\\user\\anaconda3\\lib\\site-packages (from cffi>=1.14->trio~=0.17->selenium) (2.21)\n",
      "Collecting h11<1,>=0.9.0\n",
      "  Downloading h11-0.14.0-py3-none-any.whl (58 kB)\n",
      "     ---------------------------------------- 58.3/58.3 kB 1.5 MB/s eta 0:00:00\n",
      "Installing collected packages: outcome, h11, exceptiongroup, async-generator, wsproto, trio, trio-websocket, selenium\n",
      "Successfully installed async-generator-1.10 exceptiongroup-1.1.0 h11-0.14.0 outcome-1.2.0 selenium-4.8.2 trio-0.22.0 trio-websocket-0.9.2 wsproto-1.2.0\n"
     ]
    }
   ],
   "source": [
    "# !pip install selenium\n",
    "# 위에서의 request와는 다른 방식의 크롤링 모듈"
   ]
  },
  {
   "cell_type": "code",
   "execution_count": 86,
   "metadata": {},
   "outputs": [
    {
     "name": "stdout",
     "output_type": "stream",
     "text": [
      "\n"
     ]
    },
    {
     "name": "stderr",
     "output_type": "stream",
     "text": [
      "C:\\Users\\82104\\AppData\\Local\\Temp\\ipykernel_12060\\154831867.py:14: DeprecationWarning: executable_path has been deprecated, please pass in a Service object\n",
      "  driver = webdriver.Chrome('chromedriver.exe')\n"
     ]
    }
   ],
   "source": [
    "# Melon 차트 읽어오기\n",
    "\n",
    "url = \"https://www.melon.com/chart/index.htm\"\n",
    "txt = requests.get(url)\n",
    "html = bs(txt.text)\n",
    "\n",
    "print(html)\n",
    "\n",
    "# 멜론도 위에서의 벅스처럼 크롤링을 시도하였으나 사이트에서 크롤링을 막고 있다.\n",
    "# 따라서 다른 방식으로 크롤링을 시도해야 한다.\n",
    "\n",
    "from selenium import webdriver # 위에서의 request 와는 다른 방식\n",
    "\n",
    "driver = webdriver.Chrome('chromedriver.exe')\n",
    "driver.get(url)\n",
    "\n",
    "txt = driver.page_source\n",
    "html = bs(txt)\n",
    "\n",
    "# print(html)"
   ]
  },
  {
   "cell_type": "code",
   "execution_count": 103,
   "metadata": {},
   "outputs": [
    {
     "name": "stdout",
     "output_type": "stream",
     "text": [
      "Ditto\n",
      "NewJeans\n"
     ]
    }
   ],
   "source": [
    "songs = html.select('tbody > tr')\n",
    "\n",
    "song = songs[0]\n",
    "\n",
    "print(song.select('div.rank01 > span > a')[0].text)\n",
    "print(song.select('div.rank02 > a')[0].text)\n",
    "\n",
    "song_data = []\n",
    "\n",
    "for i in range(100):\n",
    "    rank = i + 1\n",
    "    title = songs[i].select('div.rank01 > span > a')[0].text\n",
    "    singer = songs[i].select('div.rank02 > a')[0].text\n",
    "\n",
    "    song_data.append(['Melon', rank, title, singer])"
   ]
  },
  {
   "cell_type": "code",
   "execution_count": 104,
   "metadata": {},
   "outputs": [],
   "source": [
    "df = pd.DataFrame(song_data, columns = ['서비스', '순위', '타이틀', '가수'])\n",
    "df.to_excel('melon.xlsx',index=False)"
   ]
  },
  {
   "cell_type": "code",
   "execution_count": 107,
   "metadata": {},
   "outputs": [
    {
     "name": "stderr",
     "output_type": "stream",
     "text": [
      "C:\\Users\\82104\\AppData\\Local\\Temp\\ipykernel_12060\\2957925719.py:7: DeprecationWarning: executable_path has been deprecated, please pass in a Service object\n",
      "  driver = webdriver.Chrome('chromedriver.exe')\n"
     ]
    }
   ],
   "source": [
    "# Genie 차트 읽어오기\n",
    "\n",
    "from selenium import webdriver\n",
    "\n",
    "url = \"https://www.genie.co.kr/chart/top200\"\n",
    "\n",
    "driver = webdriver.Chrome('chromedriver.exe')\n",
    "driver.get(url)\n",
    "\n",
    "txt = driver.page_source\n",
    "html = bs(txt)"
   ]
  },
  {
   "cell_type": "code",
   "execution_count": 125,
   "metadata": {},
   "outputs": [],
   "source": [
    "songs = html.select('tbody > tr')\n",
    "\n",
    "song_data = []\n",
    "\n",
    "for i in range(50):\n",
    "    rank = i + 1\n",
    "    title = songs[i].select('a.ellipsis')[0].text.lstrip()\n",
    "    singer = songs[i].select('a.ellipsis')[1].text\n",
    "\n",
    "    song_data.append(['Genie', rank, title, singer])"
   ]
  },
  {
   "cell_type": "code",
   "execution_count": 126,
   "metadata": {},
   "outputs": [
    {
     "name": "stderr",
     "output_type": "stream",
     "text": [
      "C:\\Users\\82104\\AppData\\Local\\Temp\\ipykernel_12060\\1905451230.py:3: DeprecationWarning: executable_path has been deprecated, please pass in a Service object\n",
      "  driver = webdriver.Chrome('chromedriver.exe')\n"
     ]
    }
   ],
   "source": [
    "url = \"https://www.genie.co.kr/chart/top200?ditc=D&ymd=20230227&hh=16&rtm=Y&pg=2\"\n",
    "\n",
    "driver = webdriver.Chrome('chromedriver.exe')\n",
    "driver.get(url)\n",
    "\n",
    "txt = driver.page_source\n",
    "html = bs(txt)"
   ]
  },
  {
   "cell_type": "code",
   "execution_count": 129,
   "metadata": {},
   "outputs": [],
   "source": [
    "songs = html.select('tbody > tr')\n",
    "\n",
    "for i in range(50):\n",
    "    rank = i + 51\n",
    "    title = songs[i].select('a.ellipsis')[0].text.lstrip()\n",
    "    singer = songs[i].select('a.ellipsis')[1].text\n",
    "\n",
    "    song_data.append(['Genie', rank, title, singer])"
   ]
  },
  {
   "cell_type": "code",
   "execution_count": null,
   "metadata": {},
   "outputs": [],
   "source": [
    "url = \"https://www.genie.co.kr/chart/top200?ditc=D&ymd=20230227&hh=16&rtm=Y&pg=3\"\n",
    "\n",
    "driver = webdriver.Chrome('chromedriver.exe')\n",
    "driver.get(url)\n",
    "\n",
    "txt = driver.page_source\n",
    "html = bs(txt)"
   ]
  },
  {
   "cell_type": "code",
   "execution_count": null,
   "metadata": {},
   "outputs": [],
   "source": [
    "songs = html.select('tbody > tr')\n",
    "\n",
    "for i in range(50):\n",
    "    rank = i + 101\n",
    "    title = songs[i].select('a.ellipsis')[0].text.lstrip()\n",
    "    singer = songs[i].select('a.ellipsis')[1].text\n",
    "\n",
    "    song_data.append(['Genie', rank, title, singer])"
   ]
  },
  {
   "cell_type": "code",
   "execution_count": null,
   "metadata": {},
   "outputs": [],
   "source": [
    "url = \"https://www.genie.co.kr/chart/top200?ditc=D&ymd=20230227&hh=16&rtm=Y&pg=4\"\n",
    "\n",
    "driver = webdriver.Chrome('chromedriver.exe')\n",
    "driver.get(url)\n",
    "\n",
    "txt = driver.page_source\n",
    "html = bs(txt)"
   ]
  },
  {
   "cell_type": "code",
   "execution_count": null,
   "metadata": {},
   "outputs": [],
   "source": [
    "songs = html.select('tbody > tr')\n",
    "\n",
    "for i in range(50):\n",
    "    rank = i + 151\n",
    "    title = songs[i].select('a.ellipsis')[0].text.lstrip()\n",
    "    singer = songs[i].select('a.ellipsis')[1].text\n",
    "\n",
    "    song_data.append(['Genie', rank, title, singer])"
   ]
  },
  {
   "cell_type": "code",
   "execution_count": 128,
   "metadata": {},
   "outputs": [],
   "source": [
    "df = pd.DataFrame(song_data, columns = ['서비스', '순위', '타이틀', '가수'])\n",
    "df.to_excel('genie.xlsx',index=False)"
   ]
  }
 ],
 "metadata": {
  "kernelspec": {
   "display_name": "base",
   "language": "python",
   "name": "python3"
  },
  "language_info": {
   "codemirror_mode": {
    "name": "ipython",
    "version": 3
   },
   "file_extension": ".py",
   "mimetype": "text/x-python",
   "name": "python",
   "nbconvert_exporter": "python",
   "pygments_lexer": "ipython3",
   "version": "3.9.13"
  },
  "orig_nbformat": 4,
  "vscode": {
   "interpreter": {
    "hash": "a077222d77dfe082b8f1dd562ad70e458ac2ab76993a0b248ab0476e32e9e8dd"
   }
  }
 },
 "nbformat": 4,
 "nbformat_minor": 2
}
